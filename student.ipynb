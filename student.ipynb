{
 "cells": [
  {
   "cell_type": "markdown",
   "metadata": {},
   "source": [
    "## Final Project Submission\n",
    "\n",
    "* Student name: Claudio Perez\n",
    "* Student pace: Part Time \n",
    "* Scheduled project review date/time: Not Yet\n",
    "* Instructor name: Lindsey Berlin\n",
    "* Blog post URL: https://claudioprocha9.medium.com/unbelievable-conclusions-from-statistics-the-hot-hand-fallacy-5a7858aa484f\n"
   ]
  }
 ],
 "metadata": {
  "kernelspec": {
   "display_name": "Python 3",
   "language": "python",
   "name": "python3"
  },
  "language_info": {
   "codemirror_mode": {
    "name": "ipython",
    "version": 3
   },
   "file_extension": ".py",
   "mimetype": "text/x-python",
   "name": "python",
   "nbconvert_exporter": "python",
   "pygments_lexer": "ipython3",
   "version": "3.7.6"
  }
 },
 "nbformat": 4,
 "nbformat_minor": 2
}
